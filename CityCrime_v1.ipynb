{
 "cells": [
  {
   "cell_type": "code",
   "execution_count": 7,
   "metadata": {},
   "outputs": [],
   "source": [
    "# Import dependencies\n",
    "import pandas as pd\n",
    "import numpy as np\n",
    "import os\n",
    "import matplotlib.pyplot as plt\n"
   ]
  },
  {
   "cell_type": "code",
   "execution_count": 8,
   "metadata": {},
   "outputs": [],
   "source": [
    "# Read CSV files\n",
    "kansas_file = \"Resources/Kansas_City_Final.csv\"\n",
    "denver_file = \"Resources/Denver_Final.csv\"\n",
    "chicago_file = \"Resources/Chicago_Final.csv\"\n",
    "kansas_df = pd.read_csv(kansas_file, encoding= \"unicode_escape\")\n",
    "denver_df = pd.read_csv(denver_file, encoding= \"unicode_escape\")\n",
    "chicago_df = pd.read_csv(chicago_file, encoding= \"unicode_escape\")"
   ]
  },
  {
   "cell_type": "code",
   "execution_count": 9,
   "metadata": {},
   "outputs": [
    {
     "data": {
      "text/html": [
       "<div>\n",
       "<style scoped>\n",
       "    .dataframe tbody tr th:only-of-type {\n",
       "        vertical-align: middle;\n",
       "    }\n",
       "\n",
       "    .dataframe tbody tr th {\n",
       "        vertical-align: top;\n",
       "    }\n",
       "\n",
       "    .dataframe thead th {\n",
       "        text-align: right;\n",
       "    }\n",
       "</style>\n",
       "<table border=\"1\" class=\"dataframe\">\n",
       "  <thead>\n",
       "    <tr style=\"text-align: right;\">\n",
       "      <th></th>\n",
       "      <th>Reported Date</th>\n",
       "      <th>Year</th>\n",
       "      <th>Month</th>\n",
       "      <th>City</th>\n",
       "      <th>Offense</th>\n",
       "      <th>Is Violent</th>\n",
       "    </tr>\n",
       "  </thead>\n",
       "  <tbody>\n",
       "    <tr>\n",
       "      <th>1</th>\n",
       "      <td>6/30/2020</td>\n",
       "      <td>2020</td>\n",
       "      <td>20-Jun</td>\n",
       "      <td>Kansas City</td>\n",
       "      <td>Drug / Narcotic Violations</td>\n",
       "      <td>Non-Violent</td>\n",
       "    </tr>\n",
       "    <tr>\n",
       "      <th>2</th>\n",
       "      <td>6/30/2020</td>\n",
       "      <td>2020</td>\n",
       "      <td>20-Jun</td>\n",
       "      <td>Kansas City</td>\n",
       "      <td>Shoplifting</td>\n",
       "      <td>Non-Violent</td>\n",
       "    </tr>\n",
       "    <tr>\n",
       "      <th>4</th>\n",
       "      <td>6/30/2020</td>\n",
       "      <td>2020</td>\n",
       "      <td>20-Jun</td>\n",
       "      <td>Kansas City</td>\n",
       "      <td>Burglary/Breaking and Entering</td>\n",
       "      <td>Non-Violent</td>\n",
       "    </tr>\n",
       "    <tr>\n",
       "      <th>5</th>\n",
       "      <td>6/30/2020</td>\n",
       "      <td>2020</td>\n",
       "      <td>20-Jun</td>\n",
       "      <td>Kansas City</td>\n",
       "      <td>Kidnapping / Abduction</td>\n",
       "      <td>Violent</td>\n",
       "    </tr>\n",
       "    <tr>\n",
       "      <th>8</th>\n",
       "      <td>6/30/2020</td>\n",
       "      <td>2020</td>\n",
       "      <td>20-Jun</td>\n",
       "      <td>Kansas City</td>\n",
       "      <td>Stolen Property Offenses</td>\n",
       "      <td>Non-Violent</td>\n",
       "    </tr>\n",
       "  </tbody>\n",
       "</table>\n",
       "</div>"
      ],
      "text/plain": [
       "  Reported Date  Year   Month         City                         Offense  \\\n",
       "1     6/30/2020  2020  20-Jun  Kansas City      Drug / Narcotic Violations   \n",
       "2     6/30/2020  2020  20-Jun  Kansas City                     Shoplifting   \n",
       "4     6/30/2020  2020  20-Jun  Kansas City  Burglary/Breaking and Entering   \n",
       "5     6/30/2020  2020  20-Jun  Kansas City          Kidnapping / Abduction   \n",
       "8     6/30/2020  2020  20-Jun  Kansas City        Stolen Property Offenses   \n",
       "\n",
       "    Is Violent  \n",
       "1  Non-Violent  \n",
       "2  Non-Violent  \n",
       "4  Non-Violent  \n",
       "5      Violent  \n",
       "8  Non-Violent  "
      ]
     },
     "execution_count": 9,
     "metadata": {},
     "output_type": "execute_result"
    }
   ],
   "source": [
    "# Evaluate data, drop na\n",
    "kansas_df.head()\n",
    "kansas_df = kansas_df.dropna()\n",
    "kansas_df.head()"
   ]
  },
  {
   "cell_type": "code",
   "execution_count": null,
   "metadata": {},
   "outputs": [],
   "source": [
    "\n"
   ]
  },
  {
   "cell_type": "code",
   "execution_count": 10,
   "metadata": {},
   "outputs": [
    {
     "data": {
      "text/html": [
       "<div>\n",
       "<style scoped>\n",
       "    .dataframe tbody tr th:only-of-type {\n",
       "        vertical-align: middle;\n",
       "    }\n",
       "\n",
       "    .dataframe tbody tr th {\n",
       "        vertical-align: top;\n",
       "    }\n",
       "\n",
       "    .dataframe thead th {\n",
       "        text-align: right;\n",
       "    }\n",
       "</style>\n",
       "<table border=\"1\" class=\"dataframe\">\n",
       "  <thead>\n",
       "    <tr style=\"text-align: right;\">\n",
       "      <th></th>\n",
       "      <th>Reported Date</th>\n",
       "      <th>Year</th>\n",
       "      <th>Month</th>\n",
       "      <th>City</th>\n",
       "      <th>Is Violent</th>\n",
       "    </tr>\n",
       "    <tr>\n",
       "      <th>Offense</th>\n",
       "      <th></th>\n",
       "      <th></th>\n",
       "      <th></th>\n",
       "      <th></th>\n",
       "      <th></th>\n",
       "    </tr>\n",
       "  </thead>\n",
       "  <tbody>\n",
       "    <tr>\n",
       "      <th>Simple Assault</th>\n",
       "      <td>15588</td>\n",
       "      <td>15588</td>\n",
       "      <td>15588</td>\n",
       "      <td>15588</td>\n",
       "      <td>15588</td>\n",
       "    </tr>\n",
       "    <tr>\n",
       "      <th>Aggravated Assault</th>\n",
       "      <td>11681</td>\n",
       "      <td>11681</td>\n",
       "      <td>11681</td>\n",
       "      <td>11681</td>\n",
       "      <td>11681</td>\n",
       "    </tr>\n",
       "    <tr>\n",
       "      <th>Vandalism/Destruction of Property</th>\n",
       "      <td>8887</td>\n",
       "      <td>8887</td>\n",
       "      <td>8887</td>\n",
       "      <td>8887</td>\n",
       "      <td>8887</td>\n",
       "    </tr>\n",
       "    <tr>\n",
       "      <th>Motor Vehicle Theft</th>\n",
       "      <td>7133</td>\n",
       "      <td>7133</td>\n",
       "      <td>7133</td>\n",
       "      <td>7133</td>\n",
       "      <td>7133</td>\n",
       "    </tr>\n",
       "    <tr>\n",
       "      <th>Theft From Motor Vehicle</th>\n",
       "      <td>6190</td>\n",
       "      <td>6190</td>\n",
       "      <td>6190</td>\n",
       "      <td>6190</td>\n",
       "      <td>6190</td>\n",
       "    </tr>\n",
       "    <tr>\n",
       "      <th>Burglary/Breaking and Entering</th>\n",
       "      <td>6036</td>\n",
       "      <td>6036</td>\n",
       "      <td>6036</td>\n",
       "      <td>6036</td>\n",
       "      <td>6036</td>\n",
       "    </tr>\n",
       "    <tr>\n",
       "      <th>Shoplifting</th>\n",
       "      <td>5641</td>\n",
       "      <td>5641</td>\n",
       "      <td>5641</td>\n",
       "      <td>5641</td>\n",
       "      <td>5641</td>\n",
       "    </tr>\n",
       "    <tr>\n",
       "      <th>All Other Offenses</th>\n",
       "      <td>5250</td>\n",
       "      <td>5250</td>\n",
       "      <td>5250</td>\n",
       "      <td>5250</td>\n",
       "      <td>5250</td>\n",
       "    </tr>\n",
       "    <tr>\n",
       "      <th>All Other Larceny</th>\n",
       "      <td>4547</td>\n",
       "      <td>4547</td>\n",
       "      <td>4547</td>\n",
       "      <td>4547</td>\n",
       "      <td>4547</td>\n",
       "    </tr>\n",
       "    <tr>\n",
       "      <th>Robbery</th>\n",
       "      <td>4440</td>\n",
       "      <td>4440</td>\n",
       "      <td>4440</td>\n",
       "      <td>4440</td>\n",
       "      <td>4440</td>\n",
       "    </tr>\n",
       "  </tbody>\n",
       "</table>\n",
       "</div>"
      ],
      "text/plain": [
       "                                   Reported Date   Year  Month   City  \\\n",
       "Offense                                                                 \n",
       "Simple Assault                             15588  15588  15588  15588   \n",
       "Aggravated Assault                         11681  11681  11681  11681   \n",
       "Vandalism/Destruction of Property           8887   8887   8887   8887   \n",
       "Motor Vehicle Theft                         7133   7133   7133   7133   \n",
       "Theft From Motor Vehicle                    6190   6190   6190   6190   \n",
       "Burglary/Breaking and Entering              6036   6036   6036   6036   \n",
       "Shoplifting                                 5641   5641   5641   5641   \n",
       "All Other Offenses                          5250   5250   5250   5250   \n",
       "All Other Larceny                           4547   4547   4547   4547   \n",
       "Robbery                                     4440   4440   4440   4440   \n",
       "\n",
       "                                   Is Violent  \n",
       "Offense                                        \n",
       "Simple Assault                          15588  \n",
       "Aggravated Assault                      11681  \n",
       "Vandalism/Destruction of Property        8887  \n",
       "Motor Vehicle Theft                      7133  \n",
       "Theft From Motor Vehicle                 6190  \n",
       "Burglary/Breaking and Entering           6036  \n",
       "Shoplifting                              5641  \n",
       "All Other Offenses                       5250  \n",
       "All Other Larceny                        4547  \n",
       "Robbery                                  4440  "
      ]
     },
     "execution_count": 10,
     "metadata": {},
     "output_type": "execute_result"
    }
   ],
   "source": [
    "# Group data by offense type and organize \n",
    "\n",
    "\n",
    "koffense_df = kansas_df.groupby(\"Offense\").count()\n",
    "koffense_df = koffense_df.sort_values(\"Reported Date\", ascending=False)\n",
    "koffense_df.head(10)\n"
   ]
  },
  {
   "cell_type": "code",
   "execution_count": 11,
   "metadata": {},
   "outputs": [
    {
     "name": "stdout",
     "output_type": "stream",
     "text": [
      "15588 11681 8887 7133 6190 122725 104422\n"
     ]
    }
   ],
   "source": [
    "# Pie chart data\n",
    "\n",
    "# Grab data for top 5 crimes\n",
    "SimAssault_df = kansas_df.loc[kansas_df[\"Offense\"] == \"Simple Assault\"]\n",
    "AggAssault_df = kansas_df.loc[kansas_df[\"Offense\"] == \"Aggravated Assault\"]\n",
    "Vandalism_df = kansas_df.loc[kansas_df[\"Offense\"] == \"Vandalism/Destruction of Property\"]\n",
    "MVTheft_df = kansas_df.loc[kansas_df[\"Offense\"] == \"Motor Vehicle Theft\"]\n",
    "TheftfromMV_df = kansas_df.loc[kansas_df[\"Offense\"] == \"Theft From Motor Vehicle\"]\n",
    "\n",
    "# Create data for charts\n",
    "SimAssault = SimAssault_df[\"Offense\"].count()\n",
    "AggAssault = AggAssault_df[\"Offense\"].count()\n",
    "Vandalism = Vandalism_df[\"Offense\"].count()\n",
    "MVTheft = MVTheft_df[\"Offense\"].count()\n",
    "TheftfromMV = TheftfromMV_df[\"Offense\"].count()\n",
    "Total = koffense_df[\"Reported Date\"].sum()\n",
    "Other = Total - (SimAssault - AggAssault - Vandalism - MVTheft - TheftfromMV)\n",
    "\n",
    "print(SimAssault, AggAssault, Vandalism, MVTheft, TheftfromMV, Other, Total)\n"
   ]
  },
  {
   "cell_type": "code",
   "execution_count": 12,
   "metadata": {},
   "outputs": [
    {
     "data": {
      "image/png": "[encoded data removed]",
      "text/plain": [
       "<Figure size 432x288 with 1 Axes>"
      ]
     },
     "metadata": {},
     "output_type": "display_data"
    }
   ],
   "source": [
    "# Plot pie chart\n",
    "plot_labels = [\"Simple Assault\", \"Aggravated Assault\", \"Vandalism/Destruction of Property\", \n",
    "              \"Motor Vehicle Theft\", \"Theft from Motor Vehicles\", \"Other\"]\n",
    "plot_values = [SimAssault, AggAssault, Vandalism, MVTheft, TheftfromMV, Other]\n",
    "plt.title(\"Kansas Top Crimes\")\n",
    "plt.pie(plot_values, labels=plot_labels, autopct=\"%1.1f%%\", shadow=True, startangle=90)\n",
    "plt.show()"
   ]
  },
  {
   "cell_type": "code",
   "execution_count": 18,
   "metadata": {
    "scrolled": true
   },
   "outputs": [
    {
     "data": {
      "text/html": [
       "<div>\n",
       "<style scoped>\n",
       "    .dataframe tbody tr th:only-of-type {\n",
       "        vertical-align: middle;\n",
       "    }\n",
       "\n",
       "    .dataframe tbody tr th {\n",
       "        vertical-align: top;\n",
       "    }\n",
       "\n",
       "    .dataframe thead th {\n",
       "        text-align: right;\n",
       "    }\n",
       "</style>\n",
       "<table border=\"1\" class=\"dataframe\">\n",
       "  <thead>\n",
       "    <tr style=\"text-align: right;\">\n",
       "      <th></th>\n",
       "      <th></th>\n",
       "      <th>Reported Date</th>\n",
       "      <th>Year</th>\n",
       "      <th>City</th>\n",
       "      <th>Offense</th>\n",
       "    </tr>\n",
       "    <tr>\n",
       "      <th>Is Violent</th>\n",
       "      <th>Month</th>\n",
       "      <th></th>\n",
       "      <th></th>\n",
       "      <th></th>\n",
       "      <th></th>\n",
       "    </tr>\n",
       "  </thead>\n",
       "  <tbody>\n",
       "    <tr>\n",
       "      <th rowspan=\"5\" valign=\"top\">Non-Violent</th>\n",
       "      <th>19-Apr</th>\n",
       "      <td>5193</td>\n",
       "      <td>5193</td>\n",
       "      <td>5193</td>\n",
       "      <td>5193</td>\n",
       "    </tr>\n",
       "    <tr>\n",
       "      <th>19-Aug</th>\n",
       "      <td>5228</td>\n",
       "      <td>5228</td>\n",
       "      <td>5228</td>\n",
       "      <td>5228</td>\n",
       "    </tr>\n",
       "    <tr>\n",
       "      <th>19-Dec</th>\n",
       "      <td>4116</td>\n",
       "      <td>4116</td>\n",
       "      <td>4116</td>\n",
       "      <td>4116</td>\n",
       "    </tr>\n",
       "    <tr>\n",
       "      <th>19-Jul</th>\n",
       "      <td>5287</td>\n",
       "      <td>5287</td>\n",
       "      <td>5287</td>\n",
       "      <td>5287</td>\n",
       "    </tr>\n",
       "    <tr>\n",
       "      <th>19-Jun</th>\n",
       "      <td>4625</td>\n",
       "      <td>4625</td>\n",
       "      <td>4625</td>\n",
       "      <td>4625</td>\n",
       "    </tr>\n",
       "  </tbody>\n",
       "</table>\n",
       "</div>"
      ],
      "text/plain": [
       "                    Reported Date  Year  City  Offense\n",
       "Is Violent  Month                                     \n",
       "Non-Violent 19-Apr           5193  5193  5193     5193\n",
       "            19-Aug           5228  5228  5228     5228\n",
       "            19-Dec           4116  4116  4116     4116\n",
       "            19-Jul           5287  5287  5287     5287\n",
       "            19-Jun           4625  4625  4625     4625"
      ]
     },
     "execution_count": 18,
     "metadata": {},
     "output_type": "execute_result"
    }
   ],
   "source": [
    "# Violent / Non-violent crime trends\n",
    "\n",
    "ktrend_df = kansas_df.groupby([\"Is Violent\", \"Month\"]).count()\n",
    "# kviolent_df = ktrend_df.loc[ktrend_df[\"Is Violent\"] == \"Violent\"]\n",
    "ktrend_df.head()"
   ]
  },
  {
   "cell_type": "code",
   "execution_count": 58,
   "metadata": {},
   "outputs": [
    {
     "data": {
      "text/plain": [
       "Index(['19-Apr', '19-Aug', '19-Dec', '19-Jul', '19-Jun', '19-Mar', '19-May',\n",
       "       '19-Nov', '19-Oct', '19-Sep', '20-Apr', '20-Feb', '20-Jan', '20-Jun',\n",
       "       '20-Mar', '20-May'],\n",
       "      dtype='object', name='Month')"
      ]
     },
     "execution_count": 58,
     "metadata": {},
     "output_type": "execute_result"
    }
   ],
   "source": [
    "nonviolent_df = ktrend_df.loc[\"Non-Violent\"]\n",
    "\n",
    "violent_df = ktrend_df.loc[\"Violent\"]\n",
    "nonviolent_df = ktrend_df.loc[\"Non-Violent\"]\n",
    "y_axis = nonviolent_df[\"Offense\"]\n",
    "x_axis = violent_df.index\n",
    "\n",
    "\n",
    "\n",
    "x_axis\n"
   ]
  },
  {
   "cell_type": "code",
   "execution_count": 77,
   "metadata": {},
   "outputs": [
    {
     "data": {
      "image/png": "[encoded data removed]",
      "text/plain": [
       "<Figure size 864x360 with 1 Axes>"
      ]
     },
     "metadata": {
      "needs_background": "light"
     },
     "output_type": "display_data"
    }
   ],
   "source": [
    "# Step 2:  Generate line plot as figure 2\n",
    "plt.figure(figsize=(12, 5))\n",
    "\n",
    "plt.plot(nonviolent_df.index, nonviolent_df[\"Offense\"], label=\"Non-Violent Crimes\")\n",
    "plt.plot(violent_df.index, violent_df[\"Offense\"], label=\"Violent Crimes\")\n",
    "plt.legend(loc=\"lower right\")\n",
    "plt.title(\"Kansas City Monthly Crime Rates -- Violent vs. Non-Violent\")\n",
    "plt.xlabel(\"Month\")\n",
    "plt.ylabel(\"# Reported Cases\")\n",
    "\n",
    "plt.show()\n"
   ]
  },
  {
   "cell_type": "code",
   "execution_count": null,
   "metadata": {},
   "outputs": [],
   "source": []
  }
 ],
 "metadata": {
  "kernelspec": {
   "display_name": "Python 3",
   "language": "python",
   "name": "python3"
  },
  "language_info": {
   "codemirror_mode": {
    "name": "ipython",
    "version": 3
   },
   "file_extension": ".py",
   "mimetype": "text/x-python",
   "name": "python",
   "nbconvert_exporter": "python",
   "pygments_lexer": "ipython3",
   "version": "3.6.10"
  }
 },
 "nbformat": 4,
 "nbformat_minor": 4
}
