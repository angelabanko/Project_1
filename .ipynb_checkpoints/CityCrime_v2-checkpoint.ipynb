{
 "cells": [
  {
   "cell_type": "code",
   "execution_count": 27,
   "metadata": {},
   "outputs": [],
   "source": [
    "# Import dependencies\n",
    "import pandas as pd\n",
    "import numpy as np\n",
    "import os\n",
    "import matplotlib.pyplot as plt\n"
   ]
  },
  {
   "cell_type": "code",
   "execution_count": 28,
   "metadata": {},
   "outputs": [],
   "source": [
    "# Read CSV files\n",
    "denver_file = \"Resources/Denver_Final.csv\"\n",
    "denver_df = pd.read_csv(denver_file, encoding= \"unicode_escape\")\n"
   ]
  },
  {
   "cell_type": "code",
   "execution_count": 29,
   "metadata": {},
   "outputs": [
    {
     "name": "stdout",
     "output_type": "stream",
     "text": [
      "<class 'pandas.core.frame.DataFrame'>\n",
      "Int64Index: 115023 entries, 0 to 115022\n",
      "Data columns (total 6 columns):\n",
      " #   Column         Non-Null Count   Dtype \n",
      "---  ------         --------------   ----- \n",
      " 0   Reported Date  115023 non-null  object\n",
      " 1   Year           115023 non-null  int64 \n",
      " 2   Month          115023 non-null  object\n",
      " 3   City           115023 non-null  object\n",
      " 4   Offense        115023 non-null  object\n",
      " 5   Is Violent     115023 non-null  object\n",
      "dtypes: int64(1), object(5)\n",
      "memory usage: 6.1+ MB\n"
     ]
    }
   ],
   "source": [
    "# Evaluate data, drop na\n",
    "denver_df.head()\n",
    "denver_df = denver_df.dropna()\n",
    "denver_df.info()"
   ]
  },
  {
   "cell_type": "code",
   "execution_count": 30,
   "metadata": {},
   "outputs": [
    {
     "name": "stdout",
     "output_type": "stream",
     "text": [
      "<class 'pandas.core.frame.DataFrame'>\n",
      "Int64Index: 115023 entries, 0 to 115022\n",
      "Data columns (total 6 columns):\n",
      " #   Column         Non-Null Count   Dtype         \n",
      "---  ------         --------------   -----         \n",
      " 0   Reported Date  115023 non-null  datetime64[ns]\n",
      " 1   Year           115023 non-null  int64         \n",
      " 2   Month          115023 non-null  int64         \n",
      " 3   City           115023 non-null  object        \n",
      " 4   Offense        115023 non-null  object        \n",
      " 5   Is Violent     115023 non-null  object        \n",
      "dtypes: datetime64[ns](1), int64(2), object(3)\n",
      "memory usage: 6.1+ MB\n"
     ]
    }
   ],
   "source": [
    "# Convert reported data to pandas datetime64 type and use DatetimeIndex to add year and month data\n",
    "# NOTE:  First convert date from an object to datetime64 use info() method to confirm panda data type for Reporte Dates\n",
    "denver_df[\"Reported Date\"] = pd.to_datetime(denver_df[\"Reported Date\"])\n",
    "denver_df[\"Year\"] = pd.DatetimeIndex(denver_df[\"Reported Date\"]).year\n",
    "denver_df[\"Month\"] = pd.DatetimeIndex(denver_df[\"Reported Date\"]).month\n",
    "denver_df.info()\n"
   ]
  },
  {
   "cell_type": "code",
   "execution_count": 31,
   "metadata": {},
   "outputs": [
    {
     "data": {
      "text/html": [
       "<div>\n",
       "<style scoped>\n",
       "    .dataframe tbody tr th:only-of-type {\n",
       "        vertical-align: middle;\n",
       "    }\n",
       "\n",
       "    .dataframe tbody tr th {\n",
       "        vertical-align: top;\n",
       "    }\n",
       "\n",
       "    .dataframe thead th {\n",
       "        text-align: right;\n",
       "    }\n",
       "</style>\n",
       "<table border=\"1\" class=\"dataframe\">\n",
       "  <thead>\n",
       "    <tr style=\"text-align: right;\">\n",
       "      <th></th>\n",
       "      <th>Reported Date</th>\n",
       "      <th>Year</th>\n",
       "      <th>Month</th>\n",
       "      <th>City</th>\n",
       "      <th>Offense</th>\n",
       "      <th>Is Violent</th>\n",
       "    </tr>\n",
       "  </thead>\n",
       "  <tbody>\n",
       "    <tr>\n",
       "      <th>0</th>\n",
       "      <td>2020-06-30</td>\n",
       "      <td>2020</td>\n",
       "      <td>6</td>\n",
       "      <td>Denver</td>\n",
       "      <td>all-other-crimes</td>\n",
       "      <td>Non-Violent</td>\n",
       "    </tr>\n",
       "    <tr>\n",
       "      <th>1</th>\n",
       "      <td>2020-06-30</td>\n",
       "      <td>2020</td>\n",
       "      <td>6</td>\n",
       "      <td>Denver</td>\n",
       "      <td>all-other-crimes</td>\n",
       "      <td>Non-Violent</td>\n",
       "    </tr>\n",
       "    <tr>\n",
       "      <th>2</th>\n",
       "      <td>2020-06-30</td>\n",
       "      <td>2020</td>\n",
       "      <td>6</td>\n",
       "      <td>Denver</td>\n",
       "      <td>arson</td>\n",
       "      <td>Non-Violent</td>\n",
       "    </tr>\n",
       "    <tr>\n",
       "      <th>3</th>\n",
       "      <td>2020-06-30</td>\n",
       "      <td>2020</td>\n",
       "      <td>6</td>\n",
       "      <td>Denver</td>\n",
       "      <td>all-other-crimes</td>\n",
       "      <td>Non-Violent</td>\n",
       "    </tr>\n",
       "    <tr>\n",
       "      <th>4</th>\n",
       "      <td>2020-06-30</td>\n",
       "      <td>2020</td>\n",
       "      <td>6</td>\n",
       "      <td>Denver</td>\n",
       "      <td>drug-alcohol</td>\n",
       "      <td>Non-Violent</td>\n",
       "    </tr>\n",
       "  </tbody>\n",
       "</table>\n",
       "</div>"
      ],
      "text/plain": [
       "  Reported Date  Year  Month    City           Offense   Is Violent\n",
       "0    2020-06-30  2020      6  Denver  all-other-crimes  Non-Violent\n",
       "1    2020-06-30  2020      6  Denver  all-other-crimes  Non-Violent\n",
       "2    2020-06-30  2020      6  Denver             arson  Non-Violent\n",
       "3    2020-06-30  2020      6  Denver  all-other-crimes  Non-Violent\n",
       "4    2020-06-30  2020      6  Denver      drug-alcohol  Non-Violent"
      ]
     },
     "execution_count": 31,
     "metadata": {},
     "output_type": "execute_result"
    }
   ],
   "source": [
    "# Review offense types and clean data (remove traffic violations)\n",
    "denver_df[\"Offense\"].value_counts()\n",
    "dclean_df = denver_df.loc[denver_df[\"Offense\"] != \"traffic-accident\"]\n",
    "dclean_df[\"Offense\"].value_counts()\n",
    "dclean_df.head()"
   ]
  },
  {
   "cell_type": "code",
   "execution_count": 32,
   "metadata": {},
   "outputs": [
    {
     "data": {
      "text/html": [
       "<div>\n",
       "<style scoped>\n",
       "    .dataframe tbody tr th:only-of-type {\n",
       "        vertical-align: middle;\n",
       "    }\n",
       "\n",
       "    .dataframe tbody tr th {\n",
       "        vertical-align: top;\n",
       "    }\n",
       "\n",
       "    .dataframe thead th {\n",
       "        text-align: right;\n",
       "    }\n",
       "</style>\n",
       "<table border=\"1\" class=\"dataframe\">\n",
       "  <thead>\n",
       "    <tr style=\"text-align: right;\">\n",
       "      <th></th>\n",
       "      <th>Reported Date</th>\n",
       "      <th>Year</th>\n",
       "      <th>Month</th>\n",
       "      <th>City</th>\n",
       "      <th>Is Violent</th>\n",
       "    </tr>\n",
       "    <tr>\n",
       "      <th>Offense</th>\n",
       "      <th></th>\n",
       "      <th></th>\n",
       "      <th></th>\n",
       "      <th></th>\n",
       "      <th></th>\n",
       "    </tr>\n",
       "  </thead>\n",
       "  <tbody>\n",
       "    <tr>\n",
       "      <th>all-other-crimes</th>\n",
       "      <td>18729</td>\n",
       "      <td>18729</td>\n",
       "      <td>18729</td>\n",
       "      <td>18729</td>\n",
       "      <td>18729</td>\n",
       "    </tr>\n",
       "    <tr>\n",
       "      <th>larceny</th>\n",
       "      <td>13102</td>\n",
       "      <td>13102</td>\n",
       "      <td>13102</td>\n",
       "      <td>13102</td>\n",
       "      <td>13102</td>\n",
       "    </tr>\n",
       "    <tr>\n",
       "      <th>public-disorder</th>\n",
       "      <td>11966</td>\n",
       "      <td>11966</td>\n",
       "      <td>11966</td>\n",
       "      <td>11966</td>\n",
       "      <td>11966</td>\n",
       "    </tr>\n",
       "    <tr>\n",
       "      <th>theft-from-motor-vehicle</th>\n",
       "      <td>11254</td>\n",
       "      <td>11254</td>\n",
       "      <td>11254</td>\n",
       "      <td>11254</td>\n",
       "      <td>11254</td>\n",
       "    </tr>\n",
       "    <tr>\n",
       "      <th>auto-theft</th>\n",
       "      <td>7630</td>\n",
       "      <td>7630</td>\n",
       "      <td>7630</td>\n",
       "      <td>7630</td>\n",
       "      <td>7630</td>\n",
       "    </tr>\n",
       "    <tr>\n",
       "      <th>other-crimes-against-persons</th>\n",
       "      <td>5962</td>\n",
       "      <td>5962</td>\n",
       "      <td>5962</td>\n",
       "      <td>5962</td>\n",
       "      <td>5962</td>\n",
       "    </tr>\n",
       "    <tr>\n",
       "      <th>burglary</th>\n",
       "      <td>5916</td>\n",
       "      <td>5916</td>\n",
       "      <td>5916</td>\n",
       "      <td>5916</td>\n",
       "      <td>5916</td>\n",
       "    </tr>\n",
       "    <tr>\n",
       "      <th>drug-alcohol</th>\n",
       "      <td>5675</td>\n",
       "      <td>5675</td>\n",
       "      <td>5675</td>\n",
       "      <td>5675</td>\n",
       "      <td>5675</td>\n",
       "    </tr>\n",
       "    <tr>\n",
       "      <th>aggravated-assault</th>\n",
       "      <td>3502</td>\n",
       "      <td>3502</td>\n",
       "      <td>3502</td>\n",
       "      <td>3502</td>\n",
       "      <td>3502</td>\n",
       "    </tr>\n",
       "    <tr>\n",
       "      <th>white-collar-crime</th>\n",
       "      <td>1745</td>\n",
       "      <td>1745</td>\n",
       "      <td>1745</td>\n",
       "      <td>1745</td>\n",
       "      <td>1745</td>\n",
       "    </tr>\n",
       "  </tbody>\n",
       "</table>\n",
       "</div>"
      ],
      "text/plain": [
       "                              Reported Date   Year  Month   City  Is Violent\n",
       "Offense                                                                     \n",
       "all-other-crimes                      18729  18729  18729  18729       18729\n",
       "larceny                               13102  13102  13102  13102       13102\n",
       "public-disorder                       11966  11966  11966  11966       11966\n",
       "theft-from-motor-vehicle              11254  11254  11254  11254       11254\n",
       "auto-theft                             7630   7630   7630   7630        7630\n",
       "other-crimes-against-persons           5962   5962   5962   5962        5962\n",
       "burglary                               5916   5916   5916   5916        5916\n",
       "drug-alcohol                           5675   5675   5675   5675        5675\n",
       "aggravated-assault                     3502   3502   3502   3502        3502\n",
       "white-collar-crime                     1745   1745   1745   1745        1745"
      ]
     },
     "execution_count": 32,
     "metadata": {},
     "output_type": "execute_result"
    }
   ],
   "source": [
    "# Group data by offense type and organize \n",
    "doffense_df = dclean_df.groupby(\"Offense\").count()\n",
    "doffense_df = doffense_df.sort_values(\"Reported Date\", ascending=False)\n",
    "doffense_df.head(10)\n"
   ]
  },
  {
   "cell_type": "code",
   "execution_count": 33,
   "metadata": {},
   "outputs": [
    {
     "data": {
      "text/html": [
       "<div>\n",
       "<style scoped>\n",
       "    .dataframe tbody tr th:only-of-type {\n",
       "        vertical-align: middle;\n",
       "    }\n",
       "\n",
       "    .dataframe tbody tr th {\n",
       "        vertical-align: top;\n",
       "    }\n",
       "\n",
       "    .dataframe thead th {\n",
       "        text-align: right;\n",
       "    }\n",
       "</style>\n",
       "<table border=\"1\" class=\"dataframe\">\n",
       "  <thead>\n",
       "    <tr style=\"text-align: right;\">\n",
       "      <th></th>\n",
       "      <th># Reported Offenses</th>\n",
       "    </tr>\n",
       "    <tr>\n",
       "      <th>Offense</th>\n",
       "      <th></th>\n",
       "    </tr>\n",
       "  </thead>\n",
       "  <tbody>\n",
       "    <tr>\n",
       "      <th>all-other-crimes</th>\n",
       "      <td>18729</td>\n",
       "    </tr>\n",
       "    <tr>\n",
       "      <th>larceny</th>\n",
       "      <td>13102</td>\n",
       "    </tr>\n",
       "    <tr>\n",
       "      <th>public-disorder</th>\n",
       "      <td>11966</td>\n",
       "    </tr>\n",
       "    <tr>\n",
       "      <th>theft-from-motor-vehicle</th>\n",
       "      <td>11254</td>\n",
       "    </tr>\n",
       "    <tr>\n",
       "      <th>auto-theft</th>\n",
       "      <td>7630</td>\n",
       "    </tr>\n",
       "    <tr>\n",
       "      <th>other-crimes-against-persons</th>\n",
       "      <td>5962</td>\n",
       "    </tr>\n",
       "    <tr>\n",
       "      <th>burglary</th>\n",
       "      <td>5916</td>\n",
       "    </tr>\n",
       "    <tr>\n",
       "      <th>drug-alcohol</th>\n",
       "      <td>5675</td>\n",
       "    </tr>\n",
       "    <tr>\n",
       "      <th>aggravated-assault</th>\n",
       "      <td>3502</td>\n",
       "    </tr>\n",
       "    <tr>\n",
       "      <th>white-collar-crime</th>\n",
       "      <td>1745</td>\n",
       "    </tr>\n",
       "    <tr>\n",
       "      <th>robbery</th>\n",
       "      <td>1494</td>\n",
       "    </tr>\n",
       "    <tr>\n",
       "      <th>sexual-assault</th>\n",
       "      <td>1091</td>\n",
       "    </tr>\n",
       "    <tr>\n",
       "      <th>arson</th>\n",
       "      <td>169</td>\n",
       "    </tr>\n",
       "    <tr>\n",
       "      <th>murder</th>\n",
       "      <td>102</td>\n",
       "    </tr>\n",
       "  </tbody>\n",
       "</table>\n",
       "</div>"
      ],
      "text/plain": [
       "                              # Reported Offenses\n",
       "Offense                                          \n",
       "all-other-crimes                            18729\n",
       "larceny                                     13102\n",
       "public-disorder                             11966\n",
       "theft-from-motor-vehicle                    11254\n",
       "auto-theft                                   7630\n",
       "other-crimes-against-persons                 5962\n",
       "burglary                                     5916\n",
       "drug-alcohol                                 5675\n",
       "aggravated-assault                           3502\n",
       "white-collar-crime                           1745\n",
       "robbery                                      1494\n",
       "sexual-assault                               1091\n",
       "arson                                         169\n",
       "murder                                        102"
      ]
     },
     "execution_count": 33,
     "metadata": {},
     "output_type": "execute_result"
    }
   ],
   "source": [
    "# Create sunnnary tabel of Denver Crime Statistics\n",
    "dcrime_summary_df = dclean_df.groupby(\"Offense\").count()\n",
    "dcrime_summary_df = dcrime_summary_df.sort_values(by=[\"Is Violent\"], ascending=False)\n",
    "dcrime_summary_df = dcrime_summary_df[\"Is Violent\"]\n",
    "\n",
    "pd.DataFrame({\"# Reported Offenses\": dcrime_summary_df})\n"
   ]
  },
  {
   "cell_type": "code",
   "execution_count": 34,
   "metadata": {
    "scrolled": false
   },
   "outputs": [
    {
     "name": "stdout",
     "output_type": "stream",
     "text": [
      "77680 10657\n",
      "18729 13102 11966 11254 7630 5962 5916 5675 3502 1745\n"
     ]
    },
    {
     "data": {
      "text/plain": [
       "88337"
      ]
     },
     "execution_count": 34,
     "metadata": {},
     "output_type": "execute_result"
    }
   ],
   "source": [
    "# Pie chart data\n",
    "\n",
    "# Violent vs. Non_Violent Crime\n",
    "violent_crimes = dclean_df[\"Is Violent\"].loc[dclean_df[\"Is Violent\"] == \"Violent\"].count()\n",
    "non_violent_crimes = dclean_df[\"Is Violent\"].loc[dclean_df[\"Is Violent\"] == \"Non-Violent\"].count()\n",
    "\n",
    "# Top 10 Denver Crime dataframes\n",
    "AllOther_df = dclean_df.loc[dclean_df[\"Offense\"] == \"all-other-crimes\"]\n",
    "Larceny_df = dclean_df.loc[dclean_df[\"Offense\"] == \"larceny\"]\n",
    "PubDisorder_df = dclean_df.loc[dclean_df[\"Offense\"] == \"public-disorder\"]\n",
    "TheftfromMV_df = dclean_df.loc[dclean_df[\"Offense\"] == \"theft-from-motor-vehicle\"]\n",
    "Auto_df = dclean_df.loc[dclean_df[\"Offense\"] == \"auto-theft\"]\n",
    "Other_df = dclean_df.loc[dclean_df[\"Offense\"] == \"other-crimes-against-persons\"]\n",
    "Burg_df = dclean_df.loc[dclean_df[\"Offense\"] == \"burglary\"]\n",
    "Drug_df = dclean_df.loc[dclean_df[\"Offense\"] == \"drug-alcohol\"]\n",
    "AggAssault_df = dclean_df.loc[dclean_df[\"Offense\"] == \"aggravated-assault\"]\n",
    "WhiteCol_df = dclean_df.loc[dclean_df[\"Offense\"] == \"white-collar-crime\"]\n",
    "\n",
    "# Top 10 Crime data for pie chart\n",
    "Total = dclean_df[\"Offense\"].count()\n",
    "AllOther = AllOther_df[\"Offense\"].count()\n",
    "Larceny = Larceny_df[\"Offense\"].count()\n",
    "PubDisorder = PubDisorder_df[\"Offense\"].count()\n",
    "TheftfromMV = TheftfromMV_df[\"Offense\"].count()\n",
    "Auto = Auto_df[\"Offense\"].count()\n",
    "Other = Other_df[\"Offense\"].count()\n",
    "Burg = Burg_df[\"Offense\"].count()\n",
    "Drug = Drug_df[\"Offense\"].count()\n",
    "AggAssault = AggAssault_df[\"Offense\"].count()\n",
    "WhiteCol = WhiteCol_df[\"Offense\"].count()\n",
    "OtherOther = (Total - AllOther - Larceny - PubDisorder - TheftfromMV - Auto - Other - Burg - \n",
    "              Drug - AggAssault - WhiteCol)\n",
    "\n",
    "print(non_violent_crimes, violent_crimes)\n",
    "print(AllOther, Larceny, PubDisorder, TheftfromMV, Auto, Other, Burg, Drug, AggAssault, WhiteCol)\n",
    "\n",
    "\n",
    "OtherOther\n",
    "Total\n"
   ]
  },
  {
   "cell_type": "code",
   "execution_count": 35,
   "metadata": {},
   "outputs": [
    {
     "data": {
      "image/png": "[encoded data removed]",
      "text/plain": [
       "<Figure size 864x288 with 2 Axes>"
      ]
     },
     "metadata": {},
     "output_type": "display_data"
    }
   ],
   "source": [
    "# Plot pie chart of crime types\n",
    "\n",
    "fig, (ax1, ax2) = plt.subplots(1, 2, figsize=(12, 4))\n",
    "plt.suptitle(\"Denver Crime Summary\")\n",
    "\n",
    "# First Plot\n",
    "values1 = [non_violent_crimes, violent_crimes]\n",
    "labels1 = [\"Non-Violent\", \"Violent\"]\n",
    "ax1.pie(values1, labels=labels1, autopct=\"%1.1f%%\", shadow=False, startangle=90)\n",
    "\n",
    "# Second Plot\n",
    "values2 = [AllOther, Larceny, PubDisorder, TheftfromMV, Auto, Other, Burg, Drug, AggAssault, WhiteCol, OtherOther]\n",
    "labels2 = [\"All Other\", \"Larceny\", \"Public Disorder\", \"Theft from Motor Vehicles\", \"Auto Theft\", \n",
    "           \"Other Crimes Against Persons\", \"Burglary\", \"Drug and Alcohol\", \"Aggrevated Assault\", \"White Collar\", \n",
    "           \"Other Major Crimes\"]\n",
    "ax2.pie(values2, labels=labels2, autopct=\"%1.1f%%\", shadow=False, startangle=180)\n",
    "\n",
    "# Plot\n",
    "plt.subplots_adjust(wspace=.5)\n",
    "plt.savefig(\"Output Folder/denverpie.png\", dpi=300)   \n",
    "plt.show()\n"
   ]
  },
  {
   "cell_type": "code",
   "execution_count": 36,
   "metadata": {
    "scrolled": true
   },
   "outputs": [
    {
     "data": {
      "text/html": [
       "<div>\n",
       "<style scoped>\n",
       "    .dataframe tbody tr th:only-of-type {\n",
       "        vertical-align: middle;\n",
       "    }\n",
       "\n",
       "    .dataframe tbody tr th {\n",
       "        vertical-align: top;\n",
       "    }\n",
       "\n",
       "    .dataframe thead th {\n",
       "        text-align: right;\n",
       "    }\n",
       "</style>\n",
       "<table border=\"1\" class=\"dataframe\">\n",
       "  <thead>\n",
       "    <tr style=\"text-align: right;\">\n",
       "      <th></th>\n",
       "      <th></th>\n",
       "      <th></th>\n",
       "      <th>Reported Date</th>\n",
       "      <th>City</th>\n",
       "      <th>Offense</th>\n",
       "    </tr>\n",
       "    <tr>\n",
       "      <th>Is Violent</th>\n",
       "      <th>Year</th>\n",
       "      <th>Month</th>\n",
       "      <th></th>\n",
       "      <th></th>\n",
       "      <th></th>\n",
       "    </tr>\n",
       "  </thead>\n",
       "  <tbody>\n",
       "    <tr>\n",
       "      <th rowspan=\"5\" valign=\"top\">Non-Violent</th>\n",
       "      <th rowspan=\"5\" valign=\"top\">2019</th>\n",
       "      <th>3</th>\n",
       "      <td>4597</td>\n",
       "      <td>4597</td>\n",
       "      <td>4597</td>\n",
       "    </tr>\n",
       "    <tr>\n",
       "      <th>4</th>\n",
       "      <td>4701</td>\n",
       "      <td>4701</td>\n",
       "      <td>4701</td>\n",
       "    </tr>\n",
       "    <tr>\n",
       "      <th>5</th>\n",
       "      <td>4875</td>\n",
       "      <td>4875</td>\n",
       "      <td>4875</td>\n",
       "    </tr>\n",
       "    <tr>\n",
       "      <th>6</th>\n",
       "      <td>5016</td>\n",
       "      <td>5016</td>\n",
       "      <td>5016</td>\n",
       "    </tr>\n",
       "    <tr>\n",
       "      <th>7</th>\n",
       "      <td>5403</td>\n",
       "      <td>5403</td>\n",
       "      <td>5403</td>\n",
       "    </tr>\n",
       "  </tbody>\n",
       "</table>\n",
       "</div>"
      ],
      "text/plain": [
       "                        Reported Date  City  Offense\n",
       "Is Violent  Year Month                              \n",
       "Non-Violent 2019 3               4597  4597     4597\n",
       "                 4               4701  4701     4701\n",
       "                 5               4875  4875     4875\n",
       "                 6               5016  5016     5016\n",
       "                 7               5403  5403     5403"
      ]
     },
     "execution_count": 36,
     "metadata": {},
     "output_type": "execute_result"
    }
   ],
   "source": [
    "# Group data into Violent / Non-violent categories, trends by month \n",
    "dtrend_df = dclean_df.groupby([\"Is Violent\", \"Year\", \"Month\"]).count()\n",
    "# dtrend_df = dtrend_df.sort_values(by=[\"Year\", \"Month\"], ascending=True)dddd\n",
    "dtrend_df.head()\n"
   ]
  },
  {
   "cell_type": "code",
   "execution_count": 37,
   "metadata": {},
   "outputs": [],
   "source": [
    "# Break trend data into violent and non-violent data frames and sort by Year and Month\n",
    "# Nonviolent data\n",
    "nonviolent_df = dtrend_df.loc[\"Non-Violent\"]\n",
    "nonviolent_df = nonviolent_df.sort_values(by=[\"Year\", \"Month\"], ascending=True)\n",
    "\n",
    "# Violent data\n",
    "violent_df = dtrend_df.loc[\"Violent\"]\n",
    "violent_df = violent_df.sort_values(by=[\"Year\", \"Month\"], ascending=True)\n"
   ]
  },
  {
   "cell_type": "code",
   "execution_count": 38,
   "metadata": {
    "scrolled": true
   },
   "outputs": [
    {
     "data": {
      "image/png": "[encoded data removed]",
      "text/plain": [
       "<Figure size 864x360 with 1 Axes>"
      ]
     },
     "metadata": {
      "needs_background": "light"
     },
     "output_type": "display_data"
    }
   ],
   "source": [
    "# Generate line plot as figure\n",
    "# Step 1: Configure chart, xticks, and labels/titles\n",
    "plt.figure(figsize=(12, 5))\n",
    "plt.xticks(np.arange(16), [\"Mar-19\", \"Apr-19\", \"May-19\", \"June-19\", \"Jul-19\", \"Aug-19\", \"Sep-19\", \"Oct-19\", \n",
    "                      \"Nov-19\", \"Dec-19\", \"Jan-20\", \"Feb-20\", \"Mar-20\", \"Apr-20\", \"May-20\", \"Jun-20\"])\n",
    "plt.title(\"Denver City Monthly Crime Rates -- Violent vs. Non-Violent\")\n",
    "plt.xlabel(\"Month\")\n",
    "plt.ylabel(\"# Reported Cases\")\n",
    "\n",
    "# Step 2:  Configure data and plot\n",
    "plt.plot(list(nonviolent_df[\"Offense\"]), label=\"Non Violent Crimes\")\n",
    "plt.plot(list(violent_df[\"Offense\"]), label=\"Violent Crimes\")\n",
    "plt.legend(loc=\"center right\")\n",
    "plt.savefig(\"Output Folder/dentrend.png\", dpi=300) \n",
    "plt.show()\n"
   ]
  },
  {
   "cell_type": "code",
   "execution_count": 39,
   "metadata": {},
   "outputs": [
    {
     "name": "stdout",
     "output_type": "stream",
     "text": [
      "<class 'pandas.core.frame.DataFrame'>\n",
      "Int64Index: 10657 entries, 20 to 115021\n",
      "Data columns (total 6 columns):\n",
      " #   Column         Non-Null Count  Dtype         \n",
      "---  ------         --------------  -----         \n",
      " 0   Reported Date  10657 non-null  datetime64[ns]\n",
      " 1   Year           10657 non-null  int64         \n",
      " 2   Month          10657 non-null  int64         \n",
      " 3   City           10657 non-null  object        \n",
      " 4   Offense        10657 non-null  object        \n",
      " 5   Is Violent     10657 non-null  object        \n",
      "dtypes: datetime64[ns](1), int64(2), object(3)\n",
      "memory usage: 582.8+ KB\n"
     ]
    }
   ],
   "source": [
    "# Summary look at Violent crimes:\n",
    "DVioSum_df = dclean_df.loc[denver_df[\"Is Violent\"] == \"Violent\"]\n",
    "#DVioSum_df.groupby(\"Offense\").count()\n",
    "DVioSum_df.info()"
   ]
  },
  {
   "cell_type": "code",
   "execution_count": 40,
   "metadata": {},
   "outputs": [
    {
     "data": {
      "text/html": [
       "<div>\n",
       "<style scoped>\n",
       "    .dataframe tbody tr th:only-of-type {\n",
       "        vertical-align: middle;\n",
       "    }\n",
       "\n",
       "    .dataframe tbody tr th {\n",
       "        vertical-align: top;\n",
       "    }\n",
       "\n",
       "    .dataframe thead th {\n",
       "        text-align: right;\n",
       "    }\n",
       "</style>\n",
       "<table border=\"1\" class=\"dataframe\">\n",
       "  <thead>\n",
       "    <tr style=\"text-align: right;\">\n",
       "      <th></th>\n",
       "      <th></th>\n",
       "      <th></th>\n",
       "      <th>Reported Date</th>\n",
       "      <th>City</th>\n",
       "      <th>Is Violent</th>\n",
       "    </tr>\n",
       "    <tr>\n",
       "      <th>Offense</th>\n",
       "      <th>Year</th>\n",
       "      <th>Month</th>\n",
       "      <th></th>\n",
       "      <th></th>\n",
       "      <th></th>\n",
       "    </tr>\n",
       "  </thead>\n",
       "  <tbody>\n",
       "    <tr>\n",
       "      <th rowspan=\"5\" valign=\"top\">aggravated-assault</th>\n",
       "      <th rowspan=\"5\" valign=\"top\">2019</th>\n",
       "      <th>3</th>\n",
       "      <td>152</td>\n",
       "      <td>152</td>\n",
       "      <td>152</td>\n",
       "    </tr>\n",
       "    <tr>\n",
       "      <th>4</th>\n",
       "      <td>191</td>\n",
       "      <td>191</td>\n",
       "      <td>191</td>\n",
       "    </tr>\n",
       "    <tr>\n",
       "      <th>5</th>\n",
       "      <td>190</td>\n",
       "      <td>190</td>\n",
       "      <td>190</td>\n",
       "    </tr>\n",
       "    <tr>\n",
       "      <th>6</th>\n",
       "      <td>252</td>\n",
       "      <td>252</td>\n",
       "      <td>252</td>\n",
       "    </tr>\n",
       "    <tr>\n",
       "      <th>7</th>\n",
       "      <td>249</td>\n",
       "      <td>249</td>\n",
       "      <td>249</td>\n",
       "    </tr>\n",
       "  </tbody>\n",
       "</table>\n",
       "</div>"
      ],
      "text/plain": [
       "                               Reported Date  City  Is Violent\n",
       "Offense            Year Month                                 \n",
       "aggravated-assault 2019 3                152   152         152\n",
       "                        4                191   191         191\n",
       "                        5                190   190         190\n",
       "                        6                252   252         252\n",
       "                        7                249   249         249"
      ]
     },
     "execution_count": 40,
     "metadata": {},
     "output_type": "execute_result"
    }
   ],
   "source": [
    "# Violent crime trends\n",
    "VTrend_df = DVioSum_df.groupby([\"Offense\", \"Year\", \"Month\"]).count()\n",
    "VTrend_df.head()"
   ]
  },
  {
   "cell_type": "code",
   "execution_count": 41,
   "metadata": {},
   "outputs": [],
   "source": [
    "# Create violent crime plot data\n",
    "AggAssault_df = VTrend_df.loc[\"aggravated-assault\"]\n",
    "SexAssault_df = VTrend_df.loc[\"sexual-assault\"]\n",
    "OtherAssault_df = VTrend_df.loc[\"other-crimes-against-persons\"]\n",
    "Murder_df = VTrend_df.loc[\"murder\"]\n",
    "\n",
    "AggAssault = AggAssault_df[\"Is Violent\"]\n",
    "SexAssault = SexAssault_df[\"Is Violent\"]\n",
    "OtherAssault = OtherAssault_df[\"Is Violent\"]\n",
    "Murder = Murder_df[\"Is Violent\"]\n"
   ]
  },
  {
   "cell_type": "code",
   "execution_count": 42,
   "metadata": {},
   "outputs": [
    {
     "data": {
      "image/png": "[encoded data removed]",
      "text/plain": [
       "<Figure size 864x360 with 1 Axes>"
      ]
     },
     "metadata": {
      "needs_background": "light"
     },
     "output_type": "display_data"
    }
   ],
   "source": [
    "# Plot violent crime trends\n",
    "# Step 1: Configure chart, xticks, and labels/titles\n",
    "plt.figure(figsize=(12, 5))\n",
    "plt.xticks(np.arange(16), [\"Mar-19\", \"Apr-19\", \"May-19\", \"June-19\", \"Jul-19\", \"Aug-19\", \"Sep-19\", \"Oct-19\", \n",
    "                      \"Nov-19\", \"Dec-19\", \"Jan-20\", \"Feb-20\", \"Mar-20\", \"Apr-20\", \"May-20\", \"Jun-20\"])\n",
    "plt.title(\"Denver City Violent Crime Trends\")\n",
    "plt.xlabel(\"Month\")\n",
    "plt.ylabel(\"# Reported Cases\")\n",
    "\n",
    "# Step 2:  Configure data and plot\n",
    "plt.plot(list(AggAssault), label=\"Aggrevated Assault\")\n",
    "plt.plot(list(SexAssault), label=\"Sexual Assault\")\n",
    "plt.plot(list(OtherAssault), label=\"Other Crimes Against Persons\")\n",
    "plt.plot(list(Murder), label=\"Murder\")\n",
    "plt.legend(loc=\"center left\")\n",
    "plt.savefig(\"Output Folder/denviolent.png\", dpi=300) \n",
    "plt.show()"
   ]
  },
  {
   "cell_type": "code",
   "execution_count": null,
   "metadata": {},
   "outputs": [],
   "source": []
  },
  {
   "cell_type": "code",
   "execution_count": null,
   "metadata": {},
   "outputs": [],
   "source": []
  }
 ],
 "metadata": {
  "kernelspec": {
   "display_name": "Python 3",
   "language": "python",
   "name": "python3"
  },
  "language_info": {
   "codemirror_mode": {
    "name": "ipython",
    "version": 3
   },
   "file_extension": ".py",
   "mimetype": "text/x-python",
   "name": "python",
   "nbconvert_exporter": "python",
   "pygments_lexer": "ipython3",
   "version": "3.6.10"
  }
 },
 "nbformat": 4,
 "nbformat_minor": 4
}
