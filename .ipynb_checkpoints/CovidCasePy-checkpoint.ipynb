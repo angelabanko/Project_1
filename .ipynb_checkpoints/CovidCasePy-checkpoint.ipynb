{
 "cells": [
  {
   "cell_type": "code",
   "execution_count": 2,
   "metadata": {},
   "outputs": [],
   "source": [
    "# Import dependencies\n",
    "import pandas as pd\n",
    "import numpy as np\n",
    "import os\n",
    "import matplotlib.pyplot as plt\n"
   ]
  },
  {
   "cell_type": "code",
   "execution_count": 7,
   "metadata": {},
   "outputs": [
    {
     "data": {
      "text/html": [
       "<div>\n",
       "<style scoped>\n",
       "    .dataframe tbody tr th:only-of-type {\n",
       "        vertical-align: middle;\n",
       "    }\n",
       "\n",
       "    .dataframe tbody tr th {\n",
       "        vertical-align: top;\n",
       "    }\n",
       "\n",
       "    .dataframe thead th {\n",
       "        text-align: right;\n",
       "    }\n",
       "</style>\n",
       "<table border=\"1\" class=\"dataframe\">\n",
       "  <thead>\n",
       "    <tr style=\"text-align: right;\">\n",
       "      <th></th>\n",
       "      <th>Date</th>\n",
       "      <th>City</th>\n",
       "      <th>Cum_Open_Cases</th>\n",
       "      <th>Change in New Cases</th>\n",
       "      <th>% Change in New Cases</th>\n",
       "    </tr>\n",
       "  </thead>\n",
       "  <tbody>\n",
       "    <tr>\n",
       "      <th>0</th>\n",
       "      <td>1-Mar</td>\n",
       "      <td>Denver</td>\n",
       "      <td>0</td>\n",
       "      <td>0</td>\n",
       "      <td>0.0%</td>\n",
       "    </tr>\n",
       "    <tr>\n",
       "      <th>1</th>\n",
       "      <td>2-Mar</td>\n",
       "      <td>Denver</td>\n",
       "      <td>0</td>\n",
       "      <td>0</td>\n",
       "      <td>0.0%</td>\n",
       "    </tr>\n",
       "    <tr>\n",
       "      <th>2</th>\n",
       "      <td>3-Mar</td>\n",
       "      <td>Denver</td>\n",
       "      <td>0</td>\n",
       "      <td>0</td>\n",
       "      <td>0.0%</td>\n",
       "    </tr>\n",
       "    <tr>\n",
       "      <th>3</th>\n",
       "      <td>4-Mar</td>\n",
       "      <td>Denver</td>\n",
       "      <td>0</td>\n",
       "      <td>0</td>\n",
       "      <td>0.0%</td>\n",
       "    </tr>\n",
       "    <tr>\n",
       "      <th>4</th>\n",
       "      <td>5-Mar</td>\n",
       "      <td>Denver</td>\n",
       "      <td>0</td>\n",
       "      <td>0</td>\n",
       "      <td>0.0%</td>\n",
       "    </tr>\n",
       "  </tbody>\n",
       "</table>\n",
       "</div>"
      ],
      "text/plain": [
       "    Date    City  Cum_Open_Cases  Change in New Cases % Change in New Cases\n",
       "0  1-Mar  Denver               0                    0                  0.0%\n",
       "1  2-Mar  Denver               0                    0                  0.0%\n",
       "2  3-Mar  Denver               0                    0                  0.0%\n",
       "3  4-Mar  Denver               0                    0                  0.0%\n",
       "4  5-Mar  Denver               0                    0                  0.0%"
      ]
     },
     "execution_count": 7,
     "metadata": {},
     "output_type": "execute_result"
    }
   ],
   "source": [
    "# Read CSV files, review output\n",
    "covid_file = \"input_data/covid_cases_daily.csv\"\n",
    "covid_df = pd.read_csv(covid_file, encoding= \"unicode_escape\")\n",
    "covid_df.head()\n"
   ]
  },
  {
   "cell_type": "code",
   "execution_count": 8,
   "metadata": {},
   "outputs": [
    {
     "data": {
      "text/plain": [
       "San Francisco    122\n",
       "Philadelphia     122\n",
       "Los Angeles      122\n",
       "Denver           122\n",
       "Seattle          122\n",
       "Washington DC    122\n",
       "Name: City, dtype: int64"
      ]
     },
     "execution_count": 8,
     "metadata": {},
     "output_type": "execute_result"
    }
   ],
   "source": [
    "# Review cities\n",
    "covid_df[\"City\"].value_counts()"
   ]
  },
  {
   "cell_type": "code",
   "execution_count": 54,
   "metadata": {},
   "outputs": [
    {
     "data": {
      "text/plain": [
       "122     1-Mar\n",
       "123     2-Mar\n",
       "124     3-Mar\n",
       "125     4-Mar\n",
       "126     5-Mar\n",
       "        ...  \n",
       "239    26-Jun\n",
       "240    27-Jun\n",
       "241    28-Jun\n",
       "242    29-Jun\n",
       "243    30-Jun\n",
       "Name: Date, Length: 122, dtype: object"
      ]
     },
     "execution_count": 54,
     "metadata": {},
     "output_type": "execute_result"
    }
   ],
   "source": [
    "# Create data for case count plots\n",
    "# San Francisco\n",
    "SanFran_df = covid_df.loc[covid_df[\"City\"] == \"San Francisco\"]\n",
    "SFDate = SanFran_df[\"Date\"]\n",
    "SFCases = SanFran_df[\"Cum_Open_Cases\"]\n",
    "\n",
    "# Philadelphia\n",
    "Philly_df = covid_df.loc[covid_df[\"City\"] == \"Philadelphia\"]\n",
    "PDate = Philly_df[\"Date\"]\n",
    "PCases = Philly_df[\"Cum_Open_Cases\"]\n",
    "\n",
    "# Los Angeles\n",
    "LA_df = covid_df.loc[covid_df[\"City\"] == \"Los Angeles\"]\n",
    "LADate = LA_df[\"Date\"]\n",
    "LACases = LA_df[\"Cum_Open_Cases\"]\n",
    "\n",
    "# Denver\n",
    "Denver_df = covid_df.loc[covid_df[\"City\"] == \"Denver\"]\n",
    "DDate = Denver_df[\"Date\"]\n",
    "DCases = Denver_df[\"Cum_Open_Cases\"]\n",
    "\n",
    "# Seattle\n",
    "Seattle_df = covid_df.loc[covid_df[\"City\"] == \"Seattle\"]\n",
    "SDate = Seattle_df[\"Date\"]\n",
    "SCases = Seattle_df[\"Cum_Open_Cases\"]\n",
    "\n",
    "# Washington DC\n",
    "DC_df = covid_df.loc[covid_df[\"City\"] == \"Washington DC\"]\n",
    "DCDate = DC_df[\"Date\"]\n",
    "DCCases = DC_df[\"Cum_Open_Cases\"]\n",
    "\n",
    "DCDate\n"
   ]
  },
  {
   "cell_type": "code",
   "execution_count": 68,
   "metadata": {},
   "outputs": [
    {
     "data": {
      "text/plain": [
       "<function matplotlib.pyplot.show(*args, **kw)>"
      ]
     },
     "execution_count": 68,
     "metadata": {},
     "output_type": "execute_result"
    },
    {
     "data": {
      "image/png": "[encoded data removed]",
      "text/plain": [
       "<Figure size 864x576 with 6 Axes>"
      ]
     },
     "metadata": {
      "needs_background": "light"
     },
     "output_type": "display_data"
    }
   ],
   "source": [
    "# Plot Denver Data\n",
    "# Step 1: Configure chart, xticks, and labels/titles\n",
    "fig, ax = plt.subplots(2, 3, figsize=(12, 8))\n",
    "plt.suptitle(\"Cumulative Reported Covid Cases by City\")\n",
    "\n",
    "# First plot\n",
    "ax[0,0].set_title(\"San Francisco\")\n",
    "ax[0,0].bar(SFDate, SFCases, color=\"b\", align=\"center\")\n",
    "\n",
    "# Second plot\n",
    "ax[0,1].set_title(\"Philadelphia\")\n",
    "ax[0,1].bar(PDate, PCases, color=\"b\", align=\"center\")\n",
    "\n",
    "# Third plot\n",
    "ax[0,2].set_title(\"Los Angeles\")\n",
    "ax[0,2].bar(LADate, LACases, color=\"b\", align=\"center\")\n",
    "\n",
    "# Fourth plot\n",
    "ax[1,0].set_title(\"Denver\")\n",
    "ax[1,0].bar(DDate, DCases, color=\"b\", align=\"center\")\n",
    "\n",
    "# Fifth plot\n",
    "ax[1,1].set_title(\"Seattle\")\n",
    "ax[1,1].bar(SDate, SCases, color=\"b\", align=\"center\")\n",
    "\n",
    "# Sixth plot\n",
    "ax[1,2].set_title(\"Washington DC\")\n",
    "ax[1,2].bar(DCDate, DCCases, color=\"b\", align=\"center\")\n",
    "\n",
    "# Plot\n",
    "plt.subplots_adjust(wspace=.5)\n",
    "plt.savefig(\"Output Folder/covidcases.png\", dpi=300)\n",
    "plt.show"
   ]
  },
  {
   "cell_type": "code",
   "execution_count": null,
   "metadata": {},
   "outputs": [],
   "source": []
  },
  {
   "cell_type": "code",
   "execution_count": null,
   "metadata": {},
   "outputs": [],
   "source": []
  }
 ],
 "metadata": {
  "kernelspec": {
   "display_name": "Python 3",
   "language": "python",
   "name": "python3"
  },
  "language_info": {
   "codemirror_mode": {
    "name": "ipython",
    "version": 3
   },
   "file_extension": ".py",
   "mimetype": "text/x-python",
   "name": "python",
   "nbconvert_exporter": "python",
   "pygments_lexer": "ipython3",
   "version": "3.6.10"
  }
 },
 "nbformat": 4,
 "nbformat_minor": 4
}
